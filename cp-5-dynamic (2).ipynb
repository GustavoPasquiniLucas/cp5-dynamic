{
  "nbformat": 4,
  "nbformat_minor": 0,
  "metadata": {
    "colab": {
      "provenance": []
    },
    "kernelspec": {
      "name": "python3",
      "display_name": "Python 3"
    },
    "language_info": {
      "name": "python"
    }
  },
  "cells": [
    {
      "cell_type": "code",
      "source": [
        "def qtdeMoedas(M, moedas):\n",
        "    \"\"\"\n",
        "    Determina a menor quantidade de moedas usando uma abordagem gulosa.\n",
        "\n",
        "    Parâmetros:\n",
        "    - M (int): Montante a ser formado.\n",
        "    - moedas (list[int]): Lista de valores das moedas disponíveis (ilimitadas).\n",
        "\n",
        "    Retorno:\n",
        "    - int: Menor quantidade de moedas usada ou -1 se impossível.\n",
        "\n",
        "    Complexidade:\n",
        "    - Tempo: O(n), onde n é o número de tipos de moedas.\n",
        "    - Ω(1), Θ(n), O(n)\n",
        "\n",
        "    Observação:\n",
        "    - Não garante solução ótima para todos os conjuntos de moedas.\n",
        "    \"\"\"\n",
        "    moedas.sort(reverse=True)\n",
        "    total = 0\n",
        "    for moeda in moedas:\n",
        "        if M >= moeda:\n",
        "            qtd = M // moeda\n",
        "            total += qtd\n",
        "            M -= qtd * moeda\n",
        "    return total if M == 0 else -1\n"
      ],
      "metadata": {
        "id": "RzKQHKVRvcL_"
      },
      "execution_count": 1,
      "outputs": []
    },
    {
      "cell_type": "code",
      "source": [
        "def qtdeMoedasRec(M, moedas):\n",
        "    \"\"\"\n",
        "    Determina a menor quantidade de moedas usando recursão pura.\n",
        "\n",
        "    Parâmetros:\n",
        "    - M (int): Montante a ser formado.\n",
        "    - moedas (list[int]): Lista de valores das moedas disponíveis (ilimitadas).\n",
        "\n",
        "    Retorno:\n",
        "    - int: Menor quantidade de moedas usada ou float('inf') se impossível.\n",
        "\n",
        "    Complexidade:\n",
        "    - Tempo: O(m^M), onde m é o número de moedas.\n",
        "    - Ω(1), Θ(m^M), O(m^M)\n",
        "    \"\"\"\n",
        "    if M == 0:\n",
        "        return 0\n",
        "    if M < 0:\n",
        "        return float('inf')\n",
        "    menor = float('inf')\n",
        "    for moeda in moedas:\n",
        "        qtd = qtdeMoedasRec(M - moeda, moedas)\n",
        "        if qtd != float('inf'):\n",
        "            menor = min(menor, 1 + qtd)\n",
        "    return menor\n"
      ],
      "metadata": {
        "id": "_zwM8QMfveJf"
      },
      "execution_count": 2,
      "outputs": []
    },
    {
      "cell_type": "code",
      "source": [
        "def qtdeMoedasRecMemo(M, moedas, memo=None):\n",
        "    \"\"\"\n",
        "    Determina a menor quantidade de moedas usando recursão com memoização.\n",
        "\n",
        "    Parâmetros:\n",
        "    - M (int): Montante a ser formado.\n",
        "    - moedas (list[int]): Lista de valores das moedas disponíveis (ilimitadas).\n",
        "    - memo (dict): Cache para armazenar resultados de subproblemas.\n",
        "\n",
        "    Retorno:\n",
        "    - int: Menor quantidade de moedas usada ou float('inf') se impossível.\n",
        "\n",
        "    Complexidade:\n",
        "    - Tempo: O(M * m), onde m é o número de moedas.\n",
        "    - Ω(M), Θ(M * m), O(M * m)\n",
        "    \"\"\"\n",
        "    if memo is None:\n",
        "        memo = {}\n",
        "    if M in memo:\n",
        "        return memo[M]\n",
        "    if M == 0:\n",
        "        return 0\n",
        "    if M < 0:\n",
        "        return float('inf')\n",
        "    menor = float('inf')\n",
        "    for moeda in moedas:\n",
        "        qtd = qtdeMoedasRecMemo(M - moeda, moedas, memo)\n",
        "        if qtd != float('inf'):\n",
        "            menor = min(menor, 1 + qtd)\n",
        "    memo[M] = menor\n",
        "    return menor\n"
      ],
      "metadata": {
        "id": "T0PpNOZQveND"
      },
      "execution_count": 3,
      "outputs": []
    },
    {
      "cell_type": "code",
      "source": [
        "def qtdeMoedasPD(M, moedas):\n",
        "    \"\"\"\n",
        "    Determina a menor quantidade de moedas usando programação dinâmica bottom-up.\n",
        "\n",
        "    Parâmetros:\n",
        "    - M (int): Montante a ser formado.\n",
        "    - moedas (list[int]): Lista de valores das moedas disponíveis (ilimitadas).\n",
        "\n",
        "    Retorno:\n",
        "    - int: Menor quantidade de moedas usada ou -1 se impossível.\n",
        "\n",
        "    Complexidade:\n",
        "    - Tempo: O(M * m), onde m é o número de moedas.\n",
        "    - Ω(M), Θ(M * m), O(M * m)\n",
        "    \"\"\"\n",
        "    dp = [float('inf')] * (M + 1)\n",
        "    dp[0] = 0\n",
        "    for i in range(1, M + 1):\n",
        "        for moeda in moedas:\n",
        "            if i - moeda >= 0:\n",
        "                dp[i] = min(dp[i], dp[i - moeda] + 1)\n",
        "    return dp[M] if dp[M] != float('inf') else -1\n"
      ],
      "metadata": {
        "id": "N4lbQTkdveQb"
      },
      "execution_count": 4,
      "outputs": []
    },
    {
      "cell_type": "code",
      "source": [
        "print(qtdeMoedas(6, [1, 3, 4]))\n",
        "print(qtdeMoedasRec(6, [1, 3, 4]))\n",
        "print(qtdeMoedasRecMemo(6, [1, 3, 4]))\n",
        "print(qtdeMoedasPD(6, [1, 3, 4]))\n"
      ],
      "metadata": {
        "colab": {
          "base_uri": "https://localhost:8080/"
        },
        "id": "nR-0GSPCveTS",
        "outputId": "a676013e-9ecd-403a-c12e-e1f525d0ef21"
      },
      "execution_count": 5,
      "outputs": [
        {
          "output_type": "stream",
          "name": "stdout",
          "text": [
            "3\n",
            "2\n",
            "2\n",
            "2\n"
          ]
        }
      ]
    }
  ]
}